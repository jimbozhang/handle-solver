{
 "cells": [
  {
   "cell_type": "markdown",
   "metadata": {},
   "source": [
    "# “汉兜”自动解题\n",
    "\n",
    "[汉兜](https://handle.antfu.me) 是流行的[wordle](https://wordlegame.org)游戏的汉字版本。玩家有十次的机会猜一个四字成语，每次猜测后，汉字和拼音的颜色会标识其与正确答案的区别。\n",
    "\n",
    "> [剧透] 答案其实是 \"独树一帜\" (第69天的题目)\n",
    "\n",
    "本程序是一个自动解汉兜题目的程序，原理是简单的搜索比对。\n",
    "\n",
    "使用的词库来自 [pwxcoo/chinese-xinhua (github.com)](https://github.com/pwxcoo/chinese-xinhua)，并对其中的一些标注错误作了修正。"
   ]
  },
  {
   "cell_type": "code",
   "execution_count": 1,
   "metadata": {},
   "outputs": [],
   "source": [
    "from inference import Solver"
   ]
  },
  {
   "cell_type": "code",
   "execution_count": 2,
   "metadata": {},
   "outputs": [],
   "source": [
    "solver = Solver()"
   ]
  },
  {
   "cell_type": "markdown",
   "metadata": {},
   "source": [
    "#### 首先我们随机猜一个词，比如“马到成功”："
   ]
  },
  {
   "cell_type": "code",
   "execution_count": 3,
   "metadata": {},
   "outputs": [
    {
     "data": {
      "text/plain": [
       "'博洽多闻, 博物多闻, 带砺山河, 殚见洽闻, 当立之年, 当务之急, 得意之色, 得意之作, 德配天地, 地下修文, 刁钻促狭, 独辟蹊径, 独步当时, 独步当世, 独步天下, 独步一时, 独鹤鸡群, 独树一帜, 独竖一帜, 杜弊清源, 度外之人, 短褐不完, 敦世厉俗, 顿腹之言, 多艺多才, 厚味腊毒, 祸不单行, 见义当为, 揭箧担囊, 哭笑不得, 快意当前, 陋巷箪瓢, 千虑一得, 三兽渡河, 螳臂当辙, 无置锥地, 香象渡河, 一饭之德, 意气相得, 玉砌雕阑, 直谅多闻'"
      ]
     },
     "execution_count": 3,
     "metadata": {},
     "output_type": "execute_result"
    }
   ],
   "source": [
    "solver((\n",
    "    (( 'm', 0), (  'a', 0), ('3', 0)),\n",
    "    (( 'd', 1), ( 'ao', 0), ('4', 2)),\n",
    "    (('ch', 0), ('eng', 0), ('2', 1)),\n",
    "    (( 'g', 0), ('ong', 0), ('1', 1)),\n",
    "))"
   ]
  },
  {
   "cell_type": "markdown",
   "metadata": {},
   "source": [
    "#### 根据上面的输出结果，我们尝试“当务之急”："
   ]
  },
  {
   "cell_type": "code",
   "execution_count": 4,
   "metadata": {},
   "outputs": [
    {
     "data": {
      "text/plain": [
       "'独树一帜, 独竖一帜'"
      ]
     },
     "execution_count": 4,
     "metadata": {},
     "output_type": "execute_result"
    }
   ],
   "source": [
    "solver((\n",
    "    (( 'd', 2), ('ang', 0), ('1', 1)),\n",
    "    (( 'w', 0), (  'u', 2), ('4', 2)),\n",
    "    (('zh', 1), (  'i', 2), ('1', 2)),\n",
    "    (( 'j', 0), (  'i', 2), ('2', 1)),\n",
    "))"
   ]
  },
  {
   "cell_type": "markdown",
   "metadata": {},
   "source": [
    "#### 至此，答案应该就是“独树一帜”。"
   ]
  }
 ],
 "metadata": {
  "interpreter": {
   "hash": "b89b5cfaba6639976dc87ff2fec6d58faec662063367e2c229c520fe71072417"
  },
  "kernelspec": {
   "display_name": "Python 3.10.2 64-bit",
   "language": "python",
   "name": "python3"
  },
  "language_info": {
   "codemirror_mode": {
    "name": "ipython",
    "version": 3
   },
   "file_extension": ".py",
   "mimetype": "text/x-python",
   "name": "python",
   "nbconvert_exporter": "python",
   "pygments_lexer": "ipython3",
   "version": "3.10.2"
  },
  "orig_nbformat": 4
 },
 "nbformat": 4,
 "nbformat_minor": 2
}
