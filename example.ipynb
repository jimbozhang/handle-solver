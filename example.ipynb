{
 "cells": [
  {
   "cell_type": "markdown",
   "metadata": {},
   "source": [
    "# “汉兜”自动解题\n",
    "\n",
    "[汉兜](https://handle.antfu.me) 是流行的[wordle](https://wordlegame.org)游戏的汉字版本。玩家有十次的机会猜一个四字成语，每次猜测后，汉字和拼音的颜色会标识其与正确答案的区别。\n",
    "\n",
    "本程序是一个自动解汉兜题目的程序，原理是简单的搜索比对。\n",
    "\n",
    "使用的词库来自 [pwxcoo/chinese-xinhua (github.com)](https://github.com/pwxcoo/chinese-xinhua)，并对其中的一些标注错误作了修正。"
   ]
  },
  {
   "cell_type": "markdown",
   "metadata": {},
   "source": [
    "## 词库构建"
   ]
  },
  {
   "cell_type": "markdown",
   "metadata": {},
   "source": [
    "第一次使用前，需要先构建词库。"
   ]
  },
  {
   "cell_type": "code",
   "execution_count": 1,
   "metadata": {},
   "outputs": [],
   "source": [
    "! python make_db.py"
   ]
  },
  {
   "cell_type": "markdown",
   "metadata": {},
   "source": [
    "## 开始猜词"
   ]
  },
  {
   "cell_type": "code",
   "execution_count": 2,
   "metadata": {},
   "outputs": [],
   "source": [
    "from inference import Solver"
   ]
  },
  {
   "cell_type": "code",
   "execution_count": 3,
   "metadata": {},
   "outputs": [],
   "source": [
    "solver = Solver()"
   ]
  },
  {
   "cell_type": "markdown",
   "metadata": {},
   "source": [
    "> [剧透] 答案其实是 \"胆战心惊\" (第73天的题目)\n",
    "\n",
    "首先我们随机猜一个词，比如“马到成功”，同时输入汉兜游戏给出的反馈。\n",
    "声母、韵母、声调的反馈都用0,1,2三种数字表示：\n",
    "* 0表示目标词无此音素或声调\n",
    "* 1表示有此音素或声调，但位置不对\n",
    "* 2表示位置也正确"
   ]
  },
  {
   "cell_type": "code",
   "execution_count": 4,
   "metadata": {},
   "outputs": [
    {
     "data": {
      "text/plain": [
       "'百不当一, 百废待兴, 板上钉钉, 胆战心慌, 胆战心惊, 胆壮气粗, 党恶佑奸, 睹著知微, 虎视眈眈, 虎视耽耽, 简在帝心, 以义断恩, 以玉抵乌'"
      ]
     },
     "execution_count": 4,
     "metadata": {},
     "output_type": "execute_result"
    }
   ],
   "source": [
    "solver((\n",
    "    (\n",
    "        ('m', 0),\n",
    "        ('a', 0),\n",
    "        ('3', 2)\n",
    "    ),\n",
    "    (\n",
    "        ('d', 1),\n",
    "        ('ao', 0),\n",
    "        ('4', 2)\n",
    "    ),\n",
    "    (\n",
    "        ('ch', 0),\n",
    "        ('eng', 0),\n",
    "        ('2', 0)\n",
    "    ),\n",
    "    (\n",
    "        ('g', 0),\n",
    "        ('ong', 0),\n",
    "        ('1', 2)),\n",
    "))"
   ]
  },
  {
   "cell_type": "markdown",
   "metadata": {},
   "source": [
    "根据上面的输出结果，我们尝试“百废待兴”："
   ]
  },
  {
   "cell_type": "code",
   "execution_count": 5,
   "metadata": {},
   "outputs": [
    {
     "data": {
      "text/plain": [
       "'胆战心惊'"
      ]
     },
     "execution_count": 5,
     "metadata": {},
     "output_type": "execute_result"
    }
   ],
   "source": [
    "solver((\n",
    "    (\n",
    "        ('b', 0),\n",
    "        ('ai', 0),\n",
    "        ('3', 2)\n",
    "    ),\n",
    "    (\n",
    "        ('f', 0),\n",
    "        ('ei', 0),\n",
    "        ('4', 2)\n",
    "    ),\n",
    "    (\n",
    "        ('d', 1),\n",
    "        ('ai', 0),\n",
    "        ('4', 0)\n",
    "    ),\n",
    "    (\n",
    "        ('x', 1),\n",
    "        ('ing', 2),\n",
    "        ('1', 2)\n",
    "    ),\n",
    "))"
   ]
  },
  {
   "cell_type": "markdown",
   "metadata": {},
   "source": [
    "至此，答案应该就是“胆战心惊”。"
   ]
  }
 ],
 "metadata": {
  "interpreter": {
   "hash": "b89b5cfaba6639976dc87ff2fec6d58faec662063367e2c229c520fe71072417"
  },
  "kernelspec": {
   "display_name": "Python 3 (ipykernel)",
   "language": "python",
   "name": "python3"
  },
  "language_info": {
   "codemirror_mode": {
    "name": "ipython",
    "version": 3
   },
   "file_extension": ".py",
   "mimetype": "text/x-python",
   "name": "python",
   "nbconvert_exporter": "python",
   "pygments_lexer": "ipython3",
   "version": "3.10.1"
  }
 },
 "nbformat": 4,
 "nbformat_minor": 2
}
